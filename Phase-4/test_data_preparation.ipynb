{
 "cells": [
  {
   "cell_type": "markdown",
   "id": "9623b93d",
   "metadata": {},
   "source": [
    "# Data Preparation"
   ]
  },
  {
   "cell_type": "code",
   "execution_count": 1,
   "id": "954e85db",
   "metadata": {},
   "outputs": [],
   "source": [
    "%load_ext autoreload"
   ]
  },
  {
   "cell_type": "code",
   "execution_count": null,
   "id": "560d4493",
   "metadata": {},
   "outputs": [],
   "source": [
    "%autoreload 2\n",
    "\n",
    "import pandas as pd\n",
    "import numpy as np\n",
    "from sklearn.pipeline import Pipeline\n",
    "from sklearn.feature_extraction.text import TfidfTransformer,CountVectorizer\n",
    "from sklearn.naive_bayes import BernoulliNB\n",
    "\n",
    "import os\n",
    "import re\n",
    "\n",
    "from data_preprocessing import PreprocessingSteps,CustomTextPreprocessor"
   ]
  },
  {
   "cell_type": "code",
   "execution_count": 3,
   "id": "855fac1f",
   "metadata": {},
   "outputs": [],
   "source": [
    "data_dir='data/aclImdb'"
   ]
  },
  {
   "cell_type": "code",
   "execution_count": 4,
   "id": "ba6f379c",
   "metadata": {},
   "outputs": [],
   "source": [
    "def load_sentiment_data(data_type,data_dir):\n",
    "    data = []\n",
    "    for category in [\"pos\", \"neg\"]:\n",
    "        category_dir = os.path.join(data_dir, data_type, category)\n",
    "        for filename in os.listdir(category_dir):\n",
    "            with open(os.path.join(category_dir, filename), 'r', encoding=\"utf-8\") as file:\n",
    "                numbers = re.findall(r'\\d+', filename)\n",
    "                rec_id = int(numbers[0])\n",
    "                rating = int(numbers[1])\n",
    "                text = file.read()\n",
    "                data.append([rec_id,text, category,rating])\n",
    "    return pd.DataFrame(data, columns=[\"rec_id\",\"text\", \"sentiment\",\"rating\"])"
   ]
  },
  {
   "cell_type": "code",
   "execution_count": 6,
   "id": "c349da26",
   "metadata": {},
   "outputs": [],
   "source": [
    "test_df=load_sentiment_data(\"test\",data_dir)"
   ]
  },
  {
   "cell_type": "code",
   "execution_count": 7,
   "id": "567fb4a1",
   "metadata": {},
   "outputs": [
    {
     "data": {
      "text/plain": [
       "25000"
      ]
     },
     "execution_count": 7,
     "metadata": {},
     "output_type": "execute_result"
    }
   ],
   "source": [
    "len(test_df)"
   ]
  },
  {
   "cell_type": "code",
   "execution_count": 8,
   "id": "3263c73b",
   "metadata": {},
   "outputs": [
    {
     "data": {
      "text/html": [
       "<div>\n",
       "<style scoped>\n",
       "    .dataframe tbody tr th:only-of-type {\n",
       "        vertical-align: middle;\n",
       "    }\n",
       "\n",
       "    .dataframe tbody tr th {\n",
       "        vertical-align: top;\n",
       "    }\n",
       "\n",
       "    .dataframe thead th {\n",
       "        text-align: right;\n",
       "    }\n",
       "</style>\n",
       "<table border=\"1\" class=\"dataframe\">\n",
       "  <thead>\n",
       "    <tr style=\"text-align: right;\">\n",
       "      <th></th>\n",
       "      <th>rec_id</th>\n",
       "      <th>text</th>\n",
       "      <th>sentiment</th>\n",
       "      <th>rating</th>\n",
       "    </tr>\n",
       "  </thead>\n",
       "  <tbody>\n",
       "    <tr>\n",
       "      <th>0</th>\n",
       "      <td>4715</td>\n",
       "      <td>Based on an actual story, John Boorman shows t...</td>\n",
       "      <td>pos</td>\n",
       "      <td>9</td>\n",
       "    </tr>\n",
       "    <tr>\n",
       "      <th>1</th>\n",
       "      <td>1930</td>\n",
       "      <td>This is a gem. As a Film Four production - the...</td>\n",
       "      <td>pos</td>\n",
       "      <td>9</td>\n",
       "    </tr>\n",
       "    <tr>\n",
       "      <th>2</th>\n",
       "      <td>3205</td>\n",
       "      <td>I really like this show. It has drama, romance...</td>\n",
       "      <td>pos</td>\n",
       "      <td>9</td>\n",
       "    </tr>\n",
       "    <tr>\n",
       "      <th>3</th>\n",
       "      <td>10186</td>\n",
       "      <td>This is the best 3-D experience Disney has at ...</td>\n",
       "      <td>pos</td>\n",
       "      <td>10</td>\n",
       "    </tr>\n",
       "    <tr>\n",
       "      <th>4</th>\n",
       "      <td>147</td>\n",
       "      <td>Of the Korean movies I've seen, only three had...</td>\n",
       "      <td>pos</td>\n",
       "      <td>10</td>\n",
       "    </tr>\n",
       "  </tbody>\n",
       "</table>\n",
       "</div>"
      ],
      "text/plain": [
       "   rec_id                                               text sentiment  rating\n",
       "0    4715  Based on an actual story, John Boorman shows t...       pos       9\n",
       "1    1930  This is a gem. As a Film Four production - the...       pos       9\n",
       "2    3205  I really like this show. It has drama, romance...       pos       9\n",
       "3   10186  This is the best 3-D experience Disney has at ...       pos      10\n",
       "4     147  Of the Korean movies I've seen, only three had...       pos      10"
      ]
     },
     "execution_count": 8,
     "metadata": {},
     "output_type": "execute_result"
    }
   ],
   "source": [
    "test_df.head()"
   ]
  },
  {
   "cell_type": "code",
   "execution_count": 9,
   "id": "545aa6ea",
   "metadata": {},
   "outputs": [],
   "source": [
    "obj=PreprocessingSteps(test_df['text'])"
   ]
  },
  {
   "cell_type": "code",
   "execution_count": null,
   "id": "5a22ad67",
   "metadata": {},
   "outputs": [],
   "source": [
    "test_df['clean_text']=obj.pre_process_all_steps() # Run time around 7hrs due to lemmatise and POS tagging"
   ]
  },
  {
   "cell_type": "code",
   "execution_count": 11,
   "id": "2ba41ed7",
   "metadata": {},
   "outputs": [],
   "source": [
    "test_df.to_csv(\"data/clean_data/test_clean.csv\")"
   ]
  },
  {
   "cell_type": "code",
   "execution_count": null,
   "id": "24de31b7",
   "metadata": {},
   "outputs": [],
   "source": []
  }
 ],
 "metadata": {
  "kernelspec": {
   "display_name": "Python 3 (ipykernel)",
   "language": "python",
   "name": "python3"
  },
  "language_info": {
   "codemirror_mode": {
    "name": "ipython",
    "version": 3
   },
   "file_extension": ".py",
   "mimetype": "text/x-python",
   "name": "python",
   "nbconvert_exporter": "python",
   "pygments_lexer": "ipython3",
   "version": "3.9.17"
  }
 },
 "nbformat": 4,
 "nbformat_minor": 5
}
