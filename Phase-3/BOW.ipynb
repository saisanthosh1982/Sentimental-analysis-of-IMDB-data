{
 "cells": [
  {
   "cell_type": "markdown",
   "id": "a2617371",
   "metadata": {},
   "source": [
    "# Data Preparation"
   ]
  },
  {
   "cell_type": "code",
   "execution_count": 1,
   "id": "954e85db",
   "metadata": {},
   "outputs": [],
   "source": [
    "%load_ext autoreload"
   ]
  },
  {
   "cell_type": "code",
   "execution_count": 29,
   "id": "560d4493",
   "metadata": {},
   "outputs": [],
   "source": [
    "%autoreload 2\n",
    "\n",
    "import pandas as pd\n",
    "import numpy as np\n",
    "from sklearn.metrics import accuracy_score,confusion_matrix,classification_report\n",
    "from sklearn.pipeline import Pipeline\n",
    "from sklearn.feature_extraction.text import TfidfTransformer,CountVectorizer\n",
    "from sklearn.naive_bayes import BernoulliNB\n",
    "\n",
    "import os\n",
    "import re\n",
    "\n",
    "from data_preprocessing import PreprocessingSteps,CustomTextPreprocessor"
   ]
  },
  {
   "cell_type": "code",
   "execution_count": 3,
   "id": "855fac1f",
   "metadata": {},
   "outputs": [],
   "source": [
    "data_dir='data/aclImdb'"
   ]
  },
  {
   "cell_type": "code",
   "execution_count": 4,
   "id": "ba6f379c",
   "metadata": {},
   "outputs": [],
   "source": [
    "def load_sentiment_data(data_type,data_dir):\n",
    "    data = []\n",
    "    for category in [\"pos\", \"neg\"]:\n",
    "        category_dir = os.path.join(data_dir, data_type, category)\n",
    "        for filename in os.listdir(category_dir):\n",
    "            with open(os.path.join(category_dir, filename), 'r', encoding=\"utf-8\") as file:\n",
    "                numbers = re.findall(r'\\d+', filename)\n",
    "                rec_id = int(numbers[0])\n",
    "                rating = int(numbers[1])\n",
    "                text = file.read()\n",
    "                data.append([rec_id,text, category,rating])\n",
    "    return pd.DataFrame(data, columns=[\"rec_id\",\"text\", \"sentiment\",\"rating\"])"
   ]
  },
  {
   "cell_type": "code",
   "execution_count": 5,
   "id": "c349da26",
   "metadata": {},
   "outputs": [],
   "source": [
    "train_df=load_sentiment_data(\"train\",data_dir)"
   ]
  },
  {
   "cell_type": "code",
   "execution_count": 6,
   "id": "019db2fb",
   "metadata": {},
   "outputs": [
    {
     "data": {
      "text/plain": [
       "25000"
      ]
     },
     "execution_count": 6,
     "metadata": {},
     "output_type": "execute_result"
    }
   ],
   "source": [
    "len(train_df)"
   ]
  },
  {
   "cell_type": "code",
   "execution_count": 7,
   "id": "3263c73b",
   "metadata": {},
   "outputs": [
    {
     "data": {
      "text/html": [
       "<div>\n",
       "<style scoped>\n",
       "    .dataframe tbody tr th:only-of-type {\n",
       "        vertical-align: middle;\n",
       "    }\n",
       "\n",
       "    .dataframe tbody tr th {\n",
       "        vertical-align: top;\n",
       "    }\n",
       "\n",
       "    .dataframe thead th {\n",
       "        text-align: right;\n",
       "    }\n",
       "</style>\n",
       "<table border=\"1\" class=\"dataframe\">\n",
       "  <thead>\n",
       "    <tr style=\"text-align: right;\">\n",
       "      <th></th>\n",
       "      <th>rec_id</th>\n",
       "      <th>text</th>\n",
       "      <th>sentiment</th>\n",
       "      <th>rating</th>\n",
       "    </tr>\n",
       "  </thead>\n",
       "  <tbody>\n",
       "    <tr>\n",
       "      <th>0</th>\n",
       "      <td>4715</td>\n",
       "      <td>For a movie that gets no respect there sure ar...</td>\n",
       "      <td>pos</td>\n",
       "      <td>9</td>\n",
       "    </tr>\n",
       "    <tr>\n",
       "      <th>1</th>\n",
       "      <td>12390</td>\n",
       "      <td>Bizarre horror movie filled with famous faces ...</td>\n",
       "      <td>pos</td>\n",
       "      <td>8</td>\n",
       "    </tr>\n",
       "    <tr>\n",
       "      <th>2</th>\n",
       "      <td>8329</td>\n",
       "      <td>A solid, if unremarkable film. Matthau, as Ein...</td>\n",
       "      <td>pos</td>\n",
       "      <td>7</td>\n",
       "    </tr>\n",
       "    <tr>\n",
       "      <th>3</th>\n",
       "      <td>9063</td>\n",
       "      <td>It's a strange feeling to sit alone in a theat...</td>\n",
       "      <td>pos</td>\n",
       "      <td>8</td>\n",
       "    </tr>\n",
       "    <tr>\n",
       "      <th>4</th>\n",
       "      <td>3092</td>\n",
       "      <td>You probably all already know this by now, but...</td>\n",
       "      <td>pos</td>\n",
       "      <td>10</td>\n",
       "    </tr>\n",
       "  </tbody>\n",
       "</table>\n",
       "</div>"
      ],
      "text/plain": [
       "   rec_id                                               text sentiment  rating\n",
       "0    4715  For a movie that gets no respect there sure ar...       pos       9\n",
       "1   12390  Bizarre horror movie filled with famous faces ...       pos       8\n",
       "2    8329  A solid, if unremarkable film. Matthau, as Ein...       pos       7\n",
       "3    9063  It's a strange feeling to sit alone in a theat...       pos       8\n",
       "4    3092  You probably all already know this by now, but...       pos      10"
      ]
     },
     "execution_count": 7,
     "metadata": {},
     "output_type": "execute_result"
    }
   ],
   "source": [
    "train_df.head()"
   ]
  },
  {
   "cell_type": "code",
   "execution_count": 9,
   "id": "7b7f763a",
   "metadata": {},
   "outputs": [],
   "source": [
    "obj=PreprocessingSteps(train_df['text'])"
   ]
  },
  {
   "cell_type": "code",
   "execution_count": null,
   "id": "5a22ad67",
   "metadata": {},
   "outputs": [],
   "source": [
    "train_df['clean_text']=obj.pre_process_all_steps() # Run time around 7hrs due to lemmatise and POS tagging"
   ]
  },
  {
   "cell_type": "code",
   "execution_count": 11,
   "id": "fffccf7c",
   "metadata": {},
   "outputs": [],
   "source": [
    "train_df.to_csv(\"data/clean_data/train_clean.csv\")"
   ]
  },
  {
   "cell_type": "code",
   "execution_count": 12,
   "id": "b4692365",
   "metadata": {},
   "outputs": [
    {
     "data": {
      "text/html": [
       "<div>\n",
       "<style scoped>\n",
       "    .dataframe tbody tr th:only-of-type {\n",
       "        vertical-align: middle;\n",
       "    }\n",
       "\n",
       "    .dataframe tbody tr th {\n",
       "        vertical-align: top;\n",
       "    }\n",
       "\n",
       "    .dataframe thead th {\n",
       "        text-align: right;\n",
       "    }\n",
       "</style>\n",
       "<table border=\"1\" class=\"dataframe\">\n",
       "  <thead>\n",
       "    <tr style=\"text-align: right;\">\n",
       "      <th></th>\n",
       "      <th>rec_id</th>\n",
       "      <th>text</th>\n",
       "      <th>sentiment</th>\n",
       "      <th>rating</th>\n",
       "      <th>clean_text</th>\n",
       "    </tr>\n",
       "  </thead>\n",
       "  <tbody>\n",
       "    <tr>\n",
       "      <th>0</th>\n",
       "      <td>4715</td>\n",
       "      <td>For a movie that gets no respect there sure ar...</td>\n",
       "      <td>pos</td>\n",
       "      <td>9</td>\n",
       "      <td>movie get respect sure lot memorable quote lis...</td>\n",
       "    </tr>\n",
       "    <tr>\n",
       "      <th>1</th>\n",
       "      <td>12390</td>\n",
       "      <td>Bizarre horror movie filled with famous faces ...</td>\n",
       "      <td>pos</td>\n",
       "      <td>8</td>\n",
       "      <td>bizarre horror movie fill famous face steal cr...</td>\n",
       "    </tr>\n",
       "    <tr>\n",
       "      <th>2</th>\n",
       "      <td>8329</td>\n",
       "      <td>A solid, if unremarkable film. Matthau, as Ein...</td>\n",
       "      <td>pos</td>\n",
       "      <td>7</td>\n",
       "      <td>solid remarkable film matthau einstein wonderf...</td>\n",
       "    </tr>\n",
       "    <tr>\n",
       "      <th>3</th>\n",
       "      <td>9063</td>\n",
       "      <td>It's a strange feeling to sit alone in a theat...</td>\n",
       "      <td>pos</td>\n",
       "      <td>8</td>\n",
       "      <td>strange feeling sit alone theater occupy paren...</td>\n",
       "    </tr>\n",
       "    <tr>\n",
       "      <th>4</th>\n",
       "      <td>3092</td>\n",
       "      <td>You probably all already know this by now, but...</td>\n",
       "      <td>pos</td>\n",
       "      <td>10</td>\n",
       "      <td>probably already know additional episode never...</td>\n",
       "    </tr>\n",
       "  </tbody>\n",
       "</table>\n",
       "</div>"
      ],
      "text/plain": [
       "   rec_id                                               text sentiment  \\\n",
       "0    4715  For a movie that gets no respect there sure ar...       pos   \n",
       "1   12390  Bizarre horror movie filled with famous faces ...       pos   \n",
       "2    8329  A solid, if unremarkable film. Matthau, as Ein...       pos   \n",
       "3    9063  It's a strange feeling to sit alone in a theat...       pos   \n",
       "4    3092  You probably all already know this by now, but...       pos   \n",
       "\n",
       "   rating                                         clean_text  \n",
       "0       9  movie get respect sure lot memorable quote lis...  \n",
       "1       8  bizarre horror movie fill famous face steal cr...  \n",
       "2       7  solid remarkable film matthau einstein wonderf...  \n",
       "3       8  strange feeling sit alone theater occupy paren...  \n",
       "4      10  probably already know additional episode never...  "
      ]
     },
     "execution_count": 12,
     "metadata": {},
     "output_type": "execute_result"
    }
   ],
   "source": [
    "train_df.head()"
   ]
  },
  {
   "cell_type": "markdown",
   "id": "5906fbef",
   "metadata": {},
   "source": [
    "#  Naive Bayes - BOW"
   ]
  },
  {
   "cell_type": "code",
   "execution_count": 15,
   "id": "144f00fa",
   "metadata": {},
   "outputs": [],
   "source": [
    "# prediction_pipeline = Pipeline(steps=[\n",
    "#            ('text_preproc', CustomTextPreprocessor()),\n",
    "#            ('bow', CountVectorizer()),\n",
    "#            ('bernoulli', BernoulliNB())])"
   ]
  },
  {
   "cell_type": "code",
   "execution_count": 16,
   "id": "73849355",
   "metadata": {},
   "outputs": [],
   "source": [
    "prediction_pipeline = Pipeline(steps=[\n",
    "           ('bow', CountVectorizer()),\n",
    "           ('bernoulli', BernoulliNB())])"
   ]
  },
  {
   "cell_type": "code",
   "execution_count": 17,
   "id": "e55f85a0",
   "metadata": {},
   "outputs": [
    {
     "data": {
      "text/html": [
       "<style>#sk-container-id-1 {color: black;}#sk-container-id-1 pre{padding: 0;}#sk-container-id-1 div.sk-toggleable {background-color: white;}#sk-container-id-1 label.sk-toggleable__label {cursor: pointer;display: block;width: 100%;margin-bottom: 0;padding: 0.3em;box-sizing: border-box;text-align: center;}#sk-container-id-1 label.sk-toggleable__label-arrow:before {content: \"▸\";float: left;margin-right: 0.25em;color: #696969;}#sk-container-id-1 label.sk-toggleable__label-arrow:hover:before {color: black;}#sk-container-id-1 div.sk-estimator:hover label.sk-toggleable__label-arrow:before {color: black;}#sk-container-id-1 div.sk-toggleable__content {max-height: 0;max-width: 0;overflow: hidden;text-align: left;background-color: #f0f8ff;}#sk-container-id-1 div.sk-toggleable__content pre {margin: 0.2em;color: black;border-radius: 0.25em;background-color: #f0f8ff;}#sk-container-id-1 input.sk-toggleable__control:checked~div.sk-toggleable__content {max-height: 200px;max-width: 100%;overflow: auto;}#sk-container-id-1 input.sk-toggleable__control:checked~label.sk-toggleable__label-arrow:before {content: \"▾\";}#sk-container-id-1 div.sk-estimator input.sk-toggleable__control:checked~label.sk-toggleable__label {background-color: #d4ebff;}#sk-container-id-1 div.sk-label input.sk-toggleable__control:checked~label.sk-toggleable__label {background-color: #d4ebff;}#sk-container-id-1 input.sk-hidden--visually {border: 0;clip: rect(1px 1px 1px 1px);clip: rect(1px, 1px, 1px, 1px);height: 1px;margin: -1px;overflow: hidden;padding: 0;position: absolute;width: 1px;}#sk-container-id-1 div.sk-estimator {font-family: monospace;background-color: #f0f8ff;border: 1px dotted black;border-radius: 0.25em;box-sizing: border-box;margin-bottom: 0.5em;}#sk-container-id-1 div.sk-estimator:hover {background-color: #d4ebff;}#sk-container-id-1 div.sk-parallel-item::after {content: \"\";width: 100%;border-bottom: 1px solid gray;flex-grow: 1;}#sk-container-id-1 div.sk-label:hover label.sk-toggleable__label {background-color: #d4ebff;}#sk-container-id-1 div.sk-serial::before {content: \"\";position: absolute;border-left: 1px solid gray;box-sizing: border-box;top: 0;bottom: 0;left: 50%;z-index: 0;}#sk-container-id-1 div.sk-serial {display: flex;flex-direction: column;align-items: center;background-color: white;padding-right: 0.2em;padding-left: 0.2em;position: relative;}#sk-container-id-1 div.sk-item {position: relative;z-index: 1;}#sk-container-id-1 div.sk-parallel {display: flex;align-items: stretch;justify-content: center;background-color: white;position: relative;}#sk-container-id-1 div.sk-item::before, #sk-container-id-1 div.sk-parallel-item::before {content: \"\";position: absolute;border-left: 1px solid gray;box-sizing: border-box;top: 0;bottom: 0;left: 50%;z-index: -1;}#sk-container-id-1 div.sk-parallel-item {display: flex;flex-direction: column;z-index: 1;position: relative;background-color: white;}#sk-container-id-1 div.sk-parallel-item:first-child::after {align-self: flex-end;width: 50%;}#sk-container-id-1 div.sk-parallel-item:last-child::after {align-self: flex-start;width: 50%;}#sk-container-id-1 div.sk-parallel-item:only-child::after {width: 0;}#sk-container-id-1 div.sk-dashed-wrapped {border: 1px dashed gray;margin: 0 0.4em 0.5em 0.4em;box-sizing: border-box;padding-bottom: 0.4em;background-color: white;}#sk-container-id-1 div.sk-label label {font-family: monospace;font-weight: bold;display: inline-block;line-height: 1.2em;}#sk-container-id-1 div.sk-label-container {text-align: center;}#sk-container-id-1 div.sk-container {/* jupyter's `normalize.less` sets `[hidden] { display: none; }` but bootstrap.min.css set `[hidden] { display: none !important; }` so we also need the `!important` here to be able to override the default hidden behavior on the sphinx rendered scikit-learn.org. See: https://github.com/scikit-learn/scikit-learn/issues/21755 */display: inline-block !important;position: relative;}#sk-container-id-1 div.sk-text-repr-fallback {display: none;}</style><div id=\"sk-container-id-1\" class=\"sk-top-container\"><div class=\"sk-text-repr-fallback\"><pre>Pipeline(steps=[(&#x27;bow&#x27;, CountVectorizer()), (&#x27;bernoulli&#x27;, BernoulliNB())])</pre><b>In a Jupyter environment, please rerun this cell to show the HTML representation or trust the notebook. <br />On GitHub, the HTML representation is unable to render, please try loading this page with nbviewer.org.</b></div><div class=\"sk-container\" hidden><div class=\"sk-item sk-dashed-wrapped\"><div class=\"sk-label-container\"><div class=\"sk-label sk-toggleable\"><input class=\"sk-toggleable__control sk-hidden--visually\" id=\"sk-estimator-id-1\" type=\"checkbox\" ><label for=\"sk-estimator-id-1\" class=\"sk-toggleable__label sk-toggleable__label-arrow\">Pipeline</label><div class=\"sk-toggleable__content\"><pre>Pipeline(steps=[(&#x27;bow&#x27;, CountVectorizer()), (&#x27;bernoulli&#x27;, BernoulliNB())])</pre></div></div></div><div class=\"sk-serial\"><div class=\"sk-item\"><div class=\"sk-estimator sk-toggleable\"><input class=\"sk-toggleable__control sk-hidden--visually\" id=\"sk-estimator-id-2\" type=\"checkbox\" ><label for=\"sk-estimator-id-2\" class=\"sk-toggleable__label sk-toggleable__label-arrow\">CountVectorizer</label><div class=\"sk-toggleable__content\"><pre>CountVectorizer()</pre></div></div></div><div class=\"sk-item\"><div class=\"sk-estimator sk-toggleable\"><input class=\"sk-toggleable__control sk-hidden--visually\" id=\"sk-estimator-id-3\" type=\"checkbox\" ><label for=\"sk-estimator-id-3\" class=\"sk-toggleable__label sk-toggleable__label-arrow\">BernoulliNB</label><div class=\"sk-toggleable__content\"><pre>BernoulliNB()</pre></div></div></div></div></div></div></div>"
      ],
      "text/plain": [
       "Pipeline(steps=[('bow', CountVectorizer()), ('bernoulli', BernoulliNB())])"
      ]
     },
     "execution_count": 17,
     "metadata": {},
     "output_type": "execute_result"
    }
   ],
   "source": [
    "prediction_pipeline.fit(train_df['clean_text'],train_df['sentiment'])"
   ]
  },
  {
   "cell_type": "markdown",
   "id": "68f3e5c8",
   "metadata": {},
   "source": [
    "# Loading Test Data"
   ]
  },
  {
   "cell_type": "code",
   "execution_count": 19,
   "id": "b8168b14",
   "metadata": {},
   "outputs": [],
   "source": [
    "test_df=pd.read_csv(\"data/clean_data/test_clean.csv\")"
   ]
  },
  {
   "cell_type": "code",
   "execution_count": 20,
   "id": "40818c12",
   "metadata": {},
   "outputs": [
    {
     "data": {
      "text/html": [
       "<div>\n",
       "<style scoped>\n",
       "    .dataframe tbody tr th:only-of-type {\n",
       "        vertical-align: middle;\n",
       "    }\n",
       "\n",
       "    .dataframe tbody tr th {\n",
       "        vertical-align: top;\n",
       "    }\n",
       "\n",
       "    .dataframe thead th {\n",
       "        text-align: right;\n",
       "    }\n",
       "</style>\n",
       "<table border=\"1\" class=\"dataframe\">\n",
       "  <thead>\n",
       "    <tr style=\"text-align: right;\">\n",
       "      <th></th>\n",
       "      <th>Unnamed: 0</th>\n",
       "      <th>rec_id</th>\n",
       "      <th>text</th>\n",
       "      <th>sentiment</th>\n",
       "      <th>rating</th>\n",
       "      <th>clean_text</th>\n",
       "    </tr>\n",
       "  </thead>\n",
       "  <tbody>\n",
       "    <tr>\n",
       "      <th>0</th>\n",
       "      <td>0</td>\n",
       "      <td>4715</td>\n",
       "      <td>Based on an actual story, John Boorman shows t...</td>\n",
       "      <td>pos</td>\n",
       "      <td>9</td>\n",
       "      <td>base actual story john footman show struggle a...</td>\n",
       "    </tr>\n",
       "    <tr>\n",
       "      <th>1</th>\n",
       "      <td>1</td>\n",
       "      <td>1930</td>\n",
       "      <td>This is a gem. As a Film Four production - the...</td>\n",
       "      <td>pos</td>\n",
       "      <td>9</td>\n",
       "      <td>gem film production anticipated quality indeed...</td>\n",
       "    </tr>\n",
       "    <tr>\n",
       "      <th>2</th>\n",
       "      <td>2</td>\n",
       "      <td>3205</td>\n",
       "      <td>I really like this show. It has drama, romance...</td>\n",
       "      <td>pos</td>\n",
       "      <td>9</td>\n",
       "      <td>really like show drama romance comedy roll one...</td>\n",
       "    </tr>\n",
       "    <tr>\n",
       "      <th>3</th>\n",
       "      <td>3</td>\n",
       "      <td>10186</td>\n",
       "      <td>This is the best 3-D experience Disney has at ...</td>\n",
       "      <td>pos</td>\n",
       "      <td>10</td>\n",
       "      <td>best experience kidney themeparks certainly go...</td>\n",
       "    </tr>\n",
       "    <tr>\n",
       "      <th>4</th>\n",
       "      <td>4</td>\n",
       "      <td>147</td>\n",
       "      <td>Of the Korean movies I've seen, only three had...</td>\n",
       "      <td>pos</td>\n",
       "      <td>10</td>\n",
       "      <td>organ move see three really stick first excell...</td>\n",
       "    </tr>\n",
       "  </tbody>\n",
       "</table>\n",
       "</div>"
      ],
      "text/plain": [
       "   Unnamed: 0  rec_id                                               text  \\\n",
       "0           0    4715  Based on an actual story, John Boorman shows t...   \n",
       "1           1    1930  This is a gem. As a Film Four production - the...   \n",
       "2           2    3205  I really like this show. It has drama, romance...   \n",
       "3           3   10186  This is the best 3-D experience Disney has at ...   \n",
       "4           4     147  Of the Korean movies I've seen, only three had...   \n",
       "\n",
       "  sentiment  rating                                         clean_text  \n",
       "0       pos       9  base actual story john footman show struggle a...  \n",
       "1       pos       9  gem film production anticipated quality indeed...  \n",
       "2       pos       9  really like show drama romance comedy roll one...  \n",
       "3       pos      10  best experience kidney themeparks certainly go...  \n",
       "4       pos      10  organ move see three really stick first excell...  "
      ]
     },
     "execution_count": 20,
     "metadata": {},
     "output_type": "execute_result"
    }
   ],
   "source": [
    "test_df.head()"
   ]
  },
  {
   "cell_type": "code",
   "execution_count": 21,
   "id": "6b2e9b3e",
   "metadata": {},
   "outputs": [],
   "source": [
    "y_pred = prediction_pipeline.predict(test_df['clean_text'])"
   ]
  },
  {
   "cell_type": "code",
   "execution_count": 23,
   "id": "06d26805",
   "metadata": {},
   "outputs": [],
   "source": [
    "accuracy_bow = accuracy_score(test_df['sentiment'], y_pred)"
   ]
  },
  {
   "cell_type": "code",
   "execution_count": 26,
   "id": "28ba5788",
   "metadata": {},
   "outputs": [
    {
     "name": "stdout",
     "output_type": "stream",
     "text": [
      "Accuracy (BoW): 0.82096\n"
     ]
    }
   ],
   "source": [
    "print(\"Accuracy (BoW):\", accuracy_bow)"
   ]
  },
  {
   "cell_type": "code",
   "execution_count": 31,
   "id": "37e7bb0d",
   "metadata": {},
   "outputs": [
    {
     "name": "stdout",
     "output_type": "stream",
     "text": [
      "Confusion Matrix (BoW):\n",
      " [[11024  1476]\n",
      " [ 3000  9500]]\n"
     ]
    }
   ],
   "source": [
    "confusion_matrix_bow = confusion_matrix(test_df['sentiment'], y_pred,labels=[\"neg\", \"pos\"])\n",
    "print(\"Confusion Matrix (BoW):\\n\", confusion_matrix_bow)"
   ]
  },
  {
   "cell_type": "code",
   "execution_count": 32,
   "id": "03c790a5",
   "metadata": {},
   "outputs": [
    {
     "name": "stdout",
     "output_type": "stream",
     "text": [
      "Classification Report (BoW):\n",
      "               precision    recall  f1-score   support\n",
      "\n",
      "    Negative       0.79      0.88      0.83     12500\n",
      "    Positive       0.87      0.76      0.81     12500\n",
      "\n",
      "    accuracy                           0.82     25000\n",
      "   macro avg       0.83      0.82      0.82     25000\n",
      "weighted avg       0.83      0.82      0.82     25000\n",
      "\n"
     ]
    }
   ],
   "source": [
    "classification_report_bow = classification_report(test_df['sentiment'], y_pred, labels=[\"neg\", \"pos\"],target_names=['Negative', 'Positive'])\n",
    "print(\"Classification Report (BoW):\\n\", classification_report_bow)"
   ]
  },
  {
   "cell_type": "code",
   "execution_count": null,
   "id": "1592dc61",
   "metadata": {},
   "outputs": [],
   "source": []
  }
 ],
 "metadata": {
  "kernelspec": {
   "display_name": "Python 3 (ipykernel)",
   "language": "python",
   "name": "python3"
  },
  "language_info": {
   "codemirror_mode": {
    "name": "ipython",
    "version": 3
   },
   "file_extension": ".py",
   "mimetype": "text/x-python",
   "name": "python",
   "nbconvert_exporter": "python",
   "pygments_lexer": "ipython3",
   "version": "3.9.17"
  }
 },
 "nbformat": 4,
 "nbformat_minor": 5
}
